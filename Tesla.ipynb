{
 "cells": [
  {
   "cell_type": "code",
   "execution_count": 1,
   "id": "4f8055b0-fb2f-4691-b404-1b47433d9e0c",
   "metadata": {},
   "outputs": [
    {
     "name": "stdout",
     "output_type": "stream",
     "text": [
      "    Date Revenue\n",
      "11  2009    8806\n",
      "12  2008    7094\n",
      "13  2007    5319\n",
      "14  2006    3092\n",
      "15  2005    1843\n",
      "                        Date     Close     Volume  Dividends  Stock Splits\n",
      "0 2010-06-29 00:00:00-04:00  1.592667  281494500        0.0           0.0\n",
      "1 2010-06-30 00:00:00-04:00  1.588667  257806500        0.0           0.0\n",
      "2 2010-07-01 00:00:00-04:00  1.464000  123282000        0.0           0.0\n",
      "3 2010-07-02 00:00:00-04:00  1.280000   77097000        0.0           0.0\n",
      "4 2010-07-06 00:00:00-04:00  1.074000  103003500        0.0           0.0\n"
     ]
    },
    {
     "name": "stderr",
     "output_type": "stream",
     "text": [
      "/tmp/ipykernel_2733/2768708823.py:53: UserWarning:\n",
      "\n",
      "The argument 'infer_datetime_format' is deprecated and will be removed in a future version. A strict version of it is now the default, see https://pandas.pydata.org/pdeps/0004-consistent-to-datetime-parsing.html. You can safely remove this argument.\n",
      "\n",
      "/tmp/ipykernel_2733/2768708823.py:54: UserWarning:\n",
      "\n",
      "The argument 'infer_datetime_format' is deprecated and will be removed in a future version. A strict version of it is now the default, see https://pandas.pydata.org/pdeps/0004-consistent-to-datetime-parsing.html. You can safely remove this argument.\n",
      "\n"
     ]
    },
    {
     "data": {
      "text/html": [
       "<iframe\n",
       "    scrolling=\"no\"\n",
       "    width=\"100%\"\n",
       "    height=\"920\"\n",
       "    src=\"iframe_figures/figure_2.html\"\n",
       "    frameborder=\"0\"\n",
       "    allowfullscreen\n",
       "></iframe>\n"
      ]
     },
     "metadata": {},
     "output_type": "display_data"
    }
   ],
   "source": [
    "import yfinance as yf\n",
    "import pandas as pd\n",
    "import requests\n",
    "from bs4 import BeautifulSoup\n",
    "import plotly.graph_objects as go\n",
    "from plotly.subplots import make_subplots\n",
    "\n",
    "import plotly.io as pio\n",
    "pio.renderers.default = \"iframe\"\n",
    "\n",
    "  #   url to pull information from\n",
    "url = ' https://cf-courses-data.s3.us.cloud-object-storage.appdomain.cloud/IBMDeveloperSkillsNetwork-PY0220EN-SkillsNetwork/labs/project/stock.html'\n",
    "html_data = requests.get(url).text\n",
    "soup = BeautifulSoup(html_data, 'html.parser')  #  use beautiful soup library\n",
    "  #  create our empty dataframe\n",
    "tesla_revenue = pd.DataFrame(columns=[\"Date\", \"Revenue\"])  #use pandas dataframe function to structure information\n",
    "\n",
    "for row in soup.find(\"tbody\").find_all('tr'):  #   use beautifulsoup to parse needed information\n",
    "    col = row.find_all(\"td\")\n",
    "    date = col[0].text\n",
    "    Revenue = col[1].text\n",
    "    tesla_revenue = pd.concat([tesla_revenue, pd.DataFrame(\n",
    "        {\"Date\": [date], \"Revenue\": [Revenue]})], ignore_index=True)\n",
    "\n",
    "tesla_revenue[\"Revenue\"] = tesla_revenue['Revenue'].str.replace(r',|\\$',\"\", regex=True)  # append gathered information from tesla_revenue to format needed\n",
    "\n",
    "tesla_revenue.dropna(inplace=True)  #remove missing values from information\n",
    "\n",
    "tesla_revenue = tesla_revenue[tesla_revenue['Revenue'] != \"\"]  # removes any rows that have no data under revenue column\n",
    "\n",
    "print(tesla_revenue.tail())  #  print the tail end of our gathered information (tail = print last 5 rows)\n",
    "\n",
    "stock = yf.Ticker(\"TSLA\")  # listing a stock for the yfinance function\n",
    "\n",
    "# Fetch historical data with max period\n",
    "stock_data = stock.history(period=\"max\")\n",
    "\n",
    "stock_data.reset_index(inplace=True)\n",
    "stock_data = stock_data.drop('Open', axis=1)\n",
    "stock_data = stock_data.drop('High', axis=1)\n",
    "stock_data = stock_data.drop('Low', axis=1)\n",
    "stock_head = stock_data.head()\n",
    "\n",
    "print(f\" {stock_head}\")\n",
    "#print(stock_data.columns)\n",
    "\n",
    "\n",
    "\n",
    "def make_graph(stock_data, revenue_data, stock):\n",
    "    fig = make_subplots(rows=2, cols=1, shared_xaxes=True, subplot_titles=(\"Historical Share Price\", \"Historical Revenue\"), vertical_spacing = .3)\n",
    "    stock_data_specific = stock_data[stock_data.Date <= '2021-06-14']\n",
    "    revenue_data_specific = revenue_data[revenue_data.Date <= '2021-04-30']\n",
    "    fig.add_trace(go.Scatter(x=pd.to_datetime(stock_data_specific.Date, infer_datetime_format=True), y=stock_data_specific.Close.astype(\"float\"), name=\"Share Price\"), row=1, col=1)\n",
    "    fig.add_trace(go.Scatter(x=pd.to_datetime(revenue_data_specific.Date, infer_datetime_format=True), y=revenue_data_specific.Revenue.astype(\"float\"), name=\"Revenue\"), row=2, col=1)\n",
    "    fig.update_xaxes(title_text=\"Date\", row=1, col=1)\n",
    "    fig.update_xaxes(title_text=\"Date\", row=2, col=1)\n",
    "    fig.update_yaxes(title_text=\"Price ($US)\", row=1, col=1)\n",
    "    fig.update_yaxes(title_text=\"Revenue ($US Millions)\", row=2, col=1)\n",
    "    fig.update_layout(showlegend=False,\n",
    "    height=900,\n",
    "    title=stock,\n",
    "    xaxis_rangeslider_visible=True)\n",
    "    fig.show()\n",
    "    from IPython.display import display, HTML\n",
    "    #fig_html = fig.to_html()\n",
    "    #display(HTML(fig_html))\n",
    "\n",
    "make_graph(stock_head, tesla_revenue,'Tesla')"
   ]
  },
  {
   "cell_type": "code",
   "execution_count": null,
   "id": "c0ccf471-b092-4010-91c6-55634fe3f527",
   "metadata": {},
   "outputs": [],
   "source": []
  }
 ],
 "metadata": {
  "kernelspec": {
   "display_name": "Python 3 (ipykernel)",
   "language": "python",
   "name": "python3"
  },
  "language_info": {
   "codemirror_mode": {
    "name": "ipython",
    "version": 3
   },
   "file_extension": ".py",
   "mimetype": "text/x-python",
   "name": "python",
   "nbconvert_exporter": "python",
   "pygments_lexer": "ipython3",
   "version": "3.12.8"
  }
 },
 "nbformat": 4,
 "nbformat_minor": 5
}
